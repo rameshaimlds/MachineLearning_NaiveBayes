{
 "cells": [
  {
   "cell_type": "markdown",
   "metadata": {},
   "source": [
    "# Naive Bayes on Amazon Food Review dataset"
   ]
  },
  {
   "cell_type": "markdown",
   "metadata": {},
   "source": [
    "## Making predictions over amazon recommendation dataset\n",
    "\n",
    "### Predictions\n",
    "The purpose of this analysis is to make up a prediction model where we will be able to predict whether a recommendation is positive or negative. In this analysis, we will not focus on the Score, but only the positive/negative sentiment of the recommendation. \n",
    "\n",
    "To do so, we will work on Amazon's recommendation dataset, we will build a Term-doc incidence matrix using term frequency and inverse document frequency ponderation. When the data is ready, we will load it into predicitve algorithms, mainly in Naïve Bayesian.\n",
    "\n",
    "In the end, we hope to find a \"best\" **Optimal score(alpha)** for predicting the recommendation's sentiment.\n",
    "\n",
    "### Loading the data\n",
    "In order to load the data, we will use the SQLITE dataset where we will only fetch the Score and the recommendation summary. \n",
    "\n",
    "As we only want to get the global sentiment of the recommendations (positive or negative), we will purposefully ignore all Scores equal to 3. If the score id above 3, then the recommendation wil be set to \"postive\". Otherwise, it will be set to \"negative\". \n",
    "\n",
    "The data will be split into an training set and a test set with a test set ratio of **0.3**"
   ]
  },
  {
   "cell_type": "code",
   "execution_count": 1,
   "metadata": {},
   "outputs": [],
   "source": [
    "%matplotlib inline\n",
    "\n",
    "import sqlite3\n",
    "import pandas as pd\n",
    "import numpy as np\n",
    "import nltk\n",
    "import string\n",
    "import matplotlib.pyplot as plt\n",
    "import seaborn as sns\n",
    "from sklearn.feature_extraction.text import TfidfTransformer\n",
    "from sklearn.feature_extraction.text import TfidfVectorizer\n",
    "\n",
    "from sklearn.feature_extraction.text import CountVectorizer\n",
    "from sklearn.metrics import confusion_matrix\n",
    "from sklearn import metrics\n",
    "from sklearn.metrics import roc_curve, auc\n",
    "from nltk.stem.porter import PorterStemmer\n",
    "\n",
    "#Using sqlite3 Table to read te data\n",
    "con=sqlite3.connect(r'D:\\Machine Learning\\Course Recordings\\Assignments\\Amazon Product review pridiction(Amazon Fine Food Reviews)\\amazon-fine-food-reviews\\database.sqlite')\n",
    "\n",
    "filtered_data = pd.read_sql_query(\"\"\"\n",
    "SELECT Score,Text\n",
    "FROM Reviews\n",
    "WHERE Score != 3\n",
    "\"\"\", con)\n",
    "\n",
    "# Give reviews with Score>3 a positive rating, and reviews with a score<3 a negative rating.\n",
    "\n",
    "actual_score=filtered_data['Score']\n",
    "\n",
    "filtered_data['Score']=filtered_data['Score'].apply(lambda x :'negatiave' if x <3 else 'positive')\n"
   ]
  },
  {
   "cell_type": "code",
   "execution_count": 2,
   "metadata": {},
   "outputs": [],
   "source": [
    "### Taking Random data instead of complete dataset.\n",
    "filtered_data_sample=filtered_data.sample(40000, replace=True)"
   ]
  },
  {
   "cell_type": "code",
   "execution_count": 3,
   "metadata": {},
   "outputs": [
    {
     "data": {
      "text/html": [
       "<div>\n",
       "<style scoped>\n",
       "    .dataframe tbody tr th:only-of-type {\n",
       "        vertical-align: middle;\n",
       "    }\n",
       "\n",
       "    .dataframe tbody tr th {\n",
       "        vertical-align: top;\n",
       "    }\n",
       "\n",
       "    .dataframe thead th {\n",
       "        text-align: right;\n",
       "    }\n",
       "</style>\n",
       "<table border=\"1\" class=\"dataframe\">\n",
       "  <thead>\n",
       "    <tr style=\"text-align: right;\">\n",
       "      <th></th>\n",
       "      <th>Score</th>\n",
       "      <th>Text</th>\n",
       "    </tr>\n",
       "  </thead>\n",
       "  <tbody>\n",
       "    <tr>\n",
       "      <th>478770</th>\n",
       "      <td>positive</td>\n",
       "      <td>I love this stuff having grown up in Hong Kong...</td>\n",
       "    </tr>\n",
       "    <tr>\n",
       "      <th>210686</th>\n",
       "      <td>positive</td>\n",
       "      <td>So far, of all the decaf Kcups we have tried, ...</td>\n",
       "    </tr>\n",
       "    <tr>\n",
       "      <th>149016</th>\n",
       "      <td>positive</td>\n",
       "      <td>Oh my goodness.. This is indeed the best garli...</td>\n",
       "    </tr>\n",
       "    <tr>\n",
       "      <th>309285</th>\n",
       "      <td>positive</td>\n",
       "      <td>...it would not dissolve fully.  Product from ...</td>\n",
       "    </tr>\n",
       "    <tr>\n",
       "      <th>46740</th>\n",
       "      <td>positive</td>\n",
       "      <td>This is a blend of beans from 3 regions and 3 ...</td>\n",
       "    </tr>\n",
       "  </tbody>\n",
       "</table>\n",
       "</div>"
      ],
      "text/plain": [
       "           Score                                               Text\n",
       "478770  positive  I love this stuff having grown up in Hong Kong...\n",
       "210686  positive  So far, of all the decaf Kcups we have tried, ...\n",
       "149016  positive  Oh my goodness.. This is indeed the best garli...\n",
       "309285  positive  ...it would not dissolve fully.  Product from ...\n",
       "46740   positive  This is a blend of beans from 3 regions and 3 ..."
      ]
     },
     "execution_count": 3,
     "metadata": {},
     "output_type": "execute_result"
    }
   ],
   "source": [
    "filtered_data_sample.head(5)"
   ]
  },
  {
   "cell_type": "code",
   "execution_count": 4,
   "metadata": {},
   "outputs": [
    {
     "data": {
      "text/plain": [
       "positive     33829\n",
       "negatiave     6171\n",
       "Name: Score, dtype: int64"
      ]
     },
     "execution_count": 4,
     "metadata": {},
     "output_type": "execute_result"
    }
   ],
   "source": [
    "filtered_data_sample['Score'].value_counts()"
   ]
  },
  {
   "cell_type": "markdown",
   "metadata": {},
   "source": [
    "## Preprocessing the data"
   ]
  },
  {
   "cell_type": "code",
   "execution_count": 5,
   "metadata": {},
   "outputs": [
    {
     "data": {
      "text/plain": [
       "'\\n# import nltk\\nstemmer = PorterStemmer()\\nfrom nltk.corpus import stopwords\\n\\ndef stem_tokens(tokens, stemmer):\\n    stemmed = []\\n    for item in tokens:\\n        stemmed.append(stemmer.stem(item))\\n    return stemmed\\n\\ndef tokenize(text):\\n    tokens = nltk.word_tokenize(text)\\n    #tokens = [word for word in tokens if word not in stopwords.words(\\'english\\')]\\n    stems = stem_tokens(tokens, stemmer)\\n    return \\' \\'.join(stems)\\n\\nintab = string.punctuation\\nouttab = \"                                \"\\ntrantab = str.maketrans(intab, outtab)\\n'"
      ]
     },
     "execution_count": 5,
     "metadata": {},
     "output_type": "execute_result"
    }
   ],
   "source": [
    "\"\"\"\n",
    "# import nltk\n",
    "stemmer = PorterStemmer()\n",
    "from nltk.corpus import stopwords\n",
    "\n",
    "def stem_tokens(tokens, stemmer):\n",
    "    stemmed = []\n",
    "    for item in tokens:\n",
    "        stemmed.append(stemmer.stem(item))\n",
    "    return stemmed\n",
    "\n",
    "def tokenize(text):\n",
    "    tokens = nltk.word_tokenize(text)\n",
    "    #tokens = [word for word in tokens if word not in stopwords.words('english')]\n",
    "    stems = stem_tokens(tokens, stemmer)\n",
    "    return ' '.join(stems)\n",
    "\n",
    "intab = string.punctuation\n",
    "outtab = \"                                \"\n",
    "trantab = str.maketrans(intab, outtab)\n",
    "\"\"\""
   ]
  },
  {
   "cell_type": "code",
   "execution_count": 6,
   "metadata": {},
   "outputs": [
    {
     "name": "stdout",
     "output_type": "stream",
     "text": [
      "{'haven', 'out', 'over', \"isn't\", 'didn', 'for', \"that'll\", 'about', 'both', 'hers', 'themselves', 'than', 'he', 'yours', 'their', 'was', 'through', 're', \"aren't\", \"hasn't\", 'them', 'be', \"mustn't\", 'before', 'during', 'more', 'from', 'hasn', 'itself', 'against', 'but', \"should've\", 'o', 'between', 'not', 'being', 've', 'these', \"needn't\", 'does', 'all', 'hadn', 'his', 'you', 'myself', 'when', 'its', 'needn', 'y', 'himself', 'those', 'were', 'that', 'll', 'other', 'should', 'me', 'mustn', 'how', 'don', 'while', 'won', 'wouldn', 'further', 'up', \"doesn't\", 'isn', \"wouldn't\", 'wasn', 'had', 'she', 'above', 'which', 'again', 'few', 'i', 'yourself', 'whom', 'down', 'now', 'no', 'why', 'having', \"didn't\", \"weren't\", 'ma', 'then', \"don't\", 'nor', 'has', 'by', 'some', 'an', 'my', 'ourselves', 'who', 'your', 'our', 'will', 'ours', 'this', 'what', 'doing', 'him', 'm', 'because', 'doesn', 'to', 'as', 'own', 'under', 'yourselves', 'd', 'at', \"wasn't\", 'her', 's', 'been', \"you've\", 'are', \"shouldn't\", 'very', 'aren', 'and', 'below', 'there', \"couldn't\", 'here', 'of', 'shan', 'if', 'just', 'did', \"hadn't\", 'once', 'a', 't', \"you're\", 'we', 'they', 'theirs', 'shouldn', 'after', 'where', 'in', \"you'll\", 'off', 'too', 'same', 'until', 'have', 'do', \"haven't\", 'any', \"she's\", \"it's\", 'am', \"mightn't\", 'on', 'into', 'most', 'or', 'so', 'weren', 'with', 'such', 'can', \"won't\", 'it', 'herself', 'mightn', \"shan't\", 'each', 'only', 'couldn', 'the', 'ain', \"you'd\", 'is'}\n",
      "******************************\n",
      "tasti\n"
     ]
    }
   ],
   "source": [
    "import re\n",
    "import nltk\n",
    "import string \n",
    "from nltk.corpus import stopwords\n",
    "from nltk.stem import PorterStemmer\n",
    "from nltk.stem.wordnet import WordNetLemmatizer\n",
    "\n",
    "stop=set(stopwords.words('english')) # set of stop words in english\n",
    "sno=nltk.stem.SnowballStemmer('english') # initilizing the snowballstemmer\n",
    "\n",
    "\n",
    "def cleanhtml(sentance): # function to clean th word of any html tag<>\n",
    "    cleaner=re.compile('<.*?>')\n",
    "    cleantext=re.sub(cleaner,' ',sentance)\n",
    "    return cleantext\n",
    "\n",
    "def cleanpunc(sentance): # function to clean punctuation or special charactor\n",
    "    cleaned = re.sub(r'[?|!|\\'|\"|#]',r'',sentance)\n",
    "    cleaned = re.sub(r'[.|,|)|(|\\|/]',r' ',cleaned)\n",
    "    return  cleaned\n",
    "print(stop)\n",
    "print('******************************')\n",
    "print(sno.stem('tasty'))"
   ]
  },
  {
   "cell_type": "code",
   "execution_count": 7,
   "metadata": {},
   "outputs": [],
   "source": [
    "#Code for implementing step-by-step the checks mentioned in the pre-processing phase\n",
    "# this code takes a while to run as it needs to run on 500k sentences.\n",
    "i=0\n",
    "str1=' '\n",
    "final_string=[]\n",
    "all_positive_words=[] # store words from +ve reviews here\n",
    "all_negative_words=[] # store words from -ve reviews here.\n",
    "s=''\n",
    "for sent in filtered_data_sample['Text'].values:\n",
    "    filtered_sentence=[]\n",
    "    #print(sent);\n",
    "    sent=cleanhtml(sent) # remove HTMl tags\n",
    "    for w in sent.split():\n",
    "        for cleaned_words in cleanpunc(w).split():\n",
    "            if((cleaned_words.isalpha()) & (len(cleaned_words)>2)):    \n",
    "                if(cleaned_words.lower() not in stop):\n",
    "                    s=(sno.stem(cleaned_words.lower())).encode('utf8')\n",
    "                    filtered_sentence.append(s)\n",
    "                    if (filtered_data_sample['Score'].values)[i] == 'positive': \n",
    "                        all_positive_words.append(s) #list of all words used to describe positive reviews\n",
    "                    if(filtered_data_sample['Score'].values)[i] == 'negatiave':\n",
    "                        all_negative_words.append(s) #list of all words used to describe negative reviews reviews\n",
    "                else:\n",
    "                    continue\n",
    "            else:\n",
    "                continue \n",
    "    #print(filtered_sentence)\n",
    "    str1 = b\" \".join(filtered_sentence) #final string of cleaned words\n",
    "    #print(\"***********************************************************************\")\n",
    "    \n",
    "    final_string.append(str1)\n",
    "    i+=1"
   ]
  },
  {
   "cell_type": "code",
   "execution_count": 8,
   "metadata": {},
   "outputs": [],
   "source": [
    "filtered_data_sample['CleanedText']=final_string"
   ]
  },
  {
   "cell_type": "code",
   "execution_count": 9,
   "metadata": {},
   "outputs": [],
   "source": [
    "# Decoding \n",
    "\n",
    "filtered_data_sample['CleanedText'] = [i.decode() for i in filtered_data_sample['CleanedText']]"
   ]
  },
  {
   "cell_type": "code",
   "execution_count": 10,
   "metadata": {},
   "outputs": [
    {
     "data": {
      "text/html": [
       "<div>\n",
       "<style scoped>\n",
       "    .dataframe tbody tr th:only-of-type {\n",
       "        vertical-align: middle;\n",
       "    }\n",
       "\n",
       "    .dataframe tbody tr th {\n",
       "        vertical-align: top;\n",
       "    }\n",
       "\n",
       "    .dataframe thead th {\n",
       "        text-align: right;\n",
       "    }\n",
       "</style>\n",
       "<table border=\"1\" class=\"dataframe\">\n",
       "  <thead>\n",
       "    <tr style=\"text-align: right;\">\n",
       "      <th></th>\n",
       "      <th>Score</th>\n",
       "      <th>Text</th>\n",
       "      <th>CleanedText</th>\n",
       "    </tr>\n",
       "  </thead>\n",
       "  <tbody>\n",
       "    <tr>\n",
       "      <th>478770</th>\n",
       "      <td>positive</td>\n",
       "      <td>I love this stuff having grown up in Hong Kong...</td>\n",
       "      <td>love stuff grown hong kong british coloni ate ...</td>\n",
       "    </tr>\n",
       "    <tr>\n",
       "      <th>210686</th>\n",
       "      <td>positive</td>\n",
       "      <td>So far, of all the decaf Kcups we have tried, ...</td>\n",
       "      <td>far decaf kcup tri favorit wish automat order ...</td>\n",
       "    </tr>\n",
       "    <tr>\n",
       "      <th>149016</th>\n",
       "      <td>positive</td>\n",
       "      <td>Oh my goodness.. This is indeed the best garli...</td>\n",
       "      <td>good inde best garlic season made first becam ...</td>\n",
       "    </tr>\n",
       "    <tr>\n",
       "      <th>309285</th>\n",
       "      <td>positive</td>\n",
       "      <td>...it would not dissolve fully.  Product from ...</td>\n",
       "      <td>would dissolv fulli product local groceri diss...</td>\n",
       "    </tr>\n",
       "    <tr>\n",
       "      <th>46740</th>\n",
       "      <td>positive</td>\n",
       "      <td>This is a blend of beans from 3 regions and 3 ...</td>\n",
       "      <td>blend bean region differ roast one contain pro...</td>\n",
       "    </tr>\n",
       "  </tbody>\n",
       "</table>\n",
       "</div>"
      ],
      "text/plain": [
       "           Score                                               Text  \\\n",
       "478770  positive  I love this stuff having grown up in Hong Kong...   \n",
       "210686  positive  So far, of all the decaf Kcups we have tried, ...   \n",
       "149016  positive  Oh my goodness.. This is indeed the best garli...   \n",
       "309285  positive  ...it would not dissolve fully.  Product from ...   \n",
       "46740   positive  This is a blend of beans from 3 regions and 3 ...   \n",
       "\n",
       "                                              CleanedText  \n",
       "478770  love stuff grown hong kong british coloni ate ...  \n",
       "210686  far decaf kcup tri favorit wish automat order ...  \n",
       "149016  good inde best garlic season made first becam ...  \n",
       "309285  would dissolv fulli product local groceri diss...  \n",
       "46740   blend bean region differ roast one contain pro...  "
      ]
     },
     "execution_count": 10,
     "metadata": {},
     "output_type": "execute_result"
    }
   ],
   "source": [
    "#filtered_data_sample.drop('Cleaned_text',axis=1,inplace=True)\n",
    "\n",
    "filtered_data_sample.head(5)"
   ]
  },
  {
   "cell_type": "code",
   "execution_count": 11,
   "metadata": {},
   "outputs": [],
   "source": [
    "Text=filtered_data_sample['CleanedText']\n",
    "Score=filtered_data_sample['Score']"
   ]
  },
  {
   "cell_type": "markdown",
   "metadata": {},
   "source": [
    "### Splitting the data"
   ]
  },
  {
   "cell_type": "code",
   "execution_count": 13,
   "metadata": {},
   "outputs": [],
   "source": [
    "#BoW \n",
    "\n",
    "from sklearn.feature_extraction.text import CountVectorizer\n",
    "count_vect = CountVectorizer() #in scikit-learn\n",
    "final_counts = count_vect.fit_transform(Text)"
   ]
  },
  {
   "cell_type": "code",
   "execution_count": 16,
   "metadata": {},
   "outputs": [],
   "source": [
    "from sklearn.cross_validation import train_test_split\n",
    "from sklearn import cross_validation\n",
    "#X_1, X_test, y_train, y_test = train_test_split(Text, Score, test_size=0.3, random_state=0)\n",
    "\n",
    "X_1, X_test, y_1, y_test = cross_validation.train_test_split(final_counts,Score, test_size=0.3, random_state=0)"
   ]
  },
  {
   "cell_type": "code",
   "execution_count": 17,
   "metadata": {},
   "outputs": [],
   "source": [
    "# split the train data set into cross validation train and cross validation test\n",
    "X_tr, X_cv, y_tr, y_cv = cross_validation.train_test_split(X_1, y_1, test_size=0.3)"
   ]
  },
  {
   "cell_type": "markdown",
   "metadata": {},
   "source": [
    "## Applying Bernoulli Naïve Bayes learning method on Bag Of Words"
   ]
  },
  {
   "cell_type": "code",
   "execution_count": 148,
   "metadata": {},
   "outputs": [
    {
     "name": "stdout",
     "output_type": "stream",
     "text": [
      "\n",
      "CV accuracy for Alpha = 0.0001 is 88%\n",
      "\n",
      "CV accuracy for Alpha = 0.0003 is 89%\n",
      "\n",
      "CV accuracy for Alpha = 0.0006 is 89%\n",
      "\n",
      "CV accuracy for Alpha = 0.0008 is 89%\n",
      "\n",
      "CV accuracy for Alpha = 0.0010 is 89%\n",
      "\n",
      "****Test accuracy for Alpha = 1 is 88%\n"
     ]
    }
   ],
   "source": [
    "from sklearn.naive_bayes import BernoulliNB\n",
    "from sklearn.metrics import accuracy_score\n",
    "\n",
    "NB_List=np.linspace(.0001,.001,5)\n",
    "for i in NB_List:\n",
    "    \n",
    "    NB = BernoulliNB(i)\n",
    "\n",
    "    # fitting the model on crossvalidation train\n",
    "    NB.fit(X_tr, y_tr)\n",
    "\n",
    "    # predict the response on the crossvalidation train\n",
    "    pred = NB.predict(X_cv)\n",
    "\n",
    "    # evaluate CV accuracy\n",
    "    acc = accuracy_score(y_cv, pred, normalize=True) * float(100)\n",
    "    print('\\nCV accuracy for Alpha = %.4f is %d%%' % (i, acc))\n",
    "    \n",
    "NB = BernoulliNB(.0001)\n",
    "NB.fit(X_tr,y_tr)\n",
    "pred = NB.predict(X_test)\n",
    "acc = accuracy_score(y_test, pred, normalize=True) * float(100)\n",
    "print('\\n****Test accuracy for Alpha = 1 is %d%%' % (acc))"
   ]
  },
  {
   "cell_type": "code",
   "execution_count": 149,
   "metadata": {},
   "outputs": [
    {
     "name": "stdout",
     "output_type": "stream",
     "text": [
      "\n",
      "The optimal number of neighbors is 0.0006.\n"
     ]
    },
    {
     "data": {
      "image/png": "[encoded data removed]",
      "text/plain": [
       "<matplotlib.figure.Figure at 0x26248438>"
      ]
     },
     "metadata": {},
     "output_type": "display_data"
    },
    {
     "name": "stdout",
     "output_type": "stream",
     "text": [
      "the misclassification error for each Alpha value is :  [0.104 0.103 0.103 0.103 0.103 0.103 0.103 0.104 0.104 0.104]\n"
     ]
    }
   ],
   "source": [
    "import numpy as np\n",
    "import pandas as pd\n",
    "import matplotlib.pyplot as plt\n",
    "from sklearn.cross_validation import train_test_split\n",
    "from sklearn.naive_bayes import BernoulliNB\n",
    "from sklearn.metrics import accuracy_score\n",
    "from sklearn.cross_validation import cross_val_score\n",
    "from collections import Counter\n",
    "from sklearn.metrics import accuracy_score\n",
    "from sklearn import cross_validation\n",
    "\n",
    "np.set_printoptions(precision=5)\n",
    "\n",
    "bow_myList=np.linspace(.0001,.001,10)\n",
    "\n",
    "\n",
    "# empty list that will hold cv scores\n",
    "cv_scores = []\n",
    "\n",
    "# perform 10-fold cross validation\n",
    "for i in bow_myList:\n",
    "    NB = BernoulliNB(alpha=i)\n",
    "    scores = cross_val_score(NB, X_tr, y_tr, cv=10, scoring='accuracy')\n",
    "    cv_scores.append(scores.mean())\n",
    "\n",
    "# changing to misclassification error\n",
    "MSE = [1 - x for x in cv_scores]\n",
    "\n",
    "# determining best alpha\n",
    "optimal_alpha = bow_myList[MSE.index(min(MSE))]\n",
    "print('\\nThe optimal number of neighbors is %.4f.' % optimal_alpha)\n",
    "\n",
    "# plot misclassification error vs k \n",
    "plt.plot(bow_myList, MSE)\n",
    "\n",
    "for xy in zip(bow_myList, np.round(MSE,3)):\n",
    "    plt.annotate('(%s, %s)' % xy, xy=xy, textcoords='data')\n",
    "\n",
    "plt.xlabel('Number of Alpha')\n",
    "plt.ylabel('Misclassification Error')\n",
    "plt.title(\"10 - Cross Validation on NB \")\n",
    "plt.show()\n",
    "\n",
    "print(\"the misclassification error for each Alpha value is : \", np.round(MSE,3))"
   ]
  },
  {
   "cell_type": "code",
   "execution_count": 153,
   "metadata": {},
   "outputs": [
    {
     "name": "stdout",
     "output_type": "stream",
     "text": [
      "\n",
      "The accuracy of the NB classifier for alpha = 0.0006 is 88.800000%\n"
     ]
    }
   ],
   "source": [
    "\n",
    "NB_optimal = BernoulliNB(alpha=optimal_alpha)\n",
    "\n",
    "# fitting the model\n",
    "NB_optimal.fit(X_tr, y_tr)\n",
    "\n",
    "# predict the response\n",
    "pred_bow = NB_optimal.predict(X_test)\n",
    "\n",
    "# evaluate accuracy\n",
    "acc = accuracy_score(y_test, pred_bow) * 100\n",
    "print('\\nThe accuracy of the NB classifier for alpha = %.4f is %f%%' % (optimal_alpha, acc))"
   ]
  },
  {
   "cell_type": "markdown",
   "metadata": {},
   "source": [
    "## Observation:\n",
    "\n",
    "As we noticed , we have got optimal Alpha for Naive Bayes which indicates Hyper-paramter or Laplace Smooth at 0.0006 \n",
    "is closer to 89% of Accuracy (Classified) and 11% are Mis-classified.\n",
    "\n",
    "For given train data we have estimated 89% of accuracy on Test data using BagOfWords vectorizer on Naive Bayes (NB). \n"
   ]
  },
  {
   "cell_type": "markdown",
   "metadata": {},
   "source": [
    "## Important features which are +Ve and -Ve"
   ]
  },
  {
   "cell_type": "code",
   "execution_count": 21,
   "metadata": {},
   "outputs": [
    {
     "name": "stdout",
     "output_type": "stream",
     "text": [
      "Negative Words Scoring **************\n",
      "\n",
      "['aaaaaaarrrrrggghhh' 'nytim' 'nystatin' 'nylon' 'nyla' 'nye' 'nyc'\n",
      " 'oakbrook' 'nyabon' 'nuwara']\n",
      "\n",
      "\n",
      "Positive Words Scoring **************\n",
      "\n",
      "['aaaaaaarrrrrggghhh' 'presen' 'preservat' 'preset' 'preson' 'pressiez'\n",
      " 'esb' 'erythurb' 'presso' 'erythitol']\n"
     ]
    }
   ],
   "source": [
    "## Finding top features from Bag Of Words\n",
    "import numpy as np\n",
    "neg_class_prob_sorted = NB_optimal.feature_log_prob_[0, :].argsort()\n",
    "pos_class_prob_sorted = NB_optimal.feature_log_prob_[1, :].argsort()\n",
    "\n",
    "print('Negative Words Scoring **************\\n')\n",
    "print(np.take(count_vect.get_feature_names(), neg_class_prob_sorted[:10])) # np.take(arr, indices, axis=3(optional)) it returns ndarray (Ni…, Nj…, Nk…)\n",
    "print('\\n')\n",
    "print('Positive Words Scoring **************\\n')\n",
    "print(np.take(count_vect.get_feature_names(), pos_class_prob_sorted[:10]))\n"
   ]
  },
  {
   "cell_type": "markdown",
   "metadata": {},
   "source": [
    "## F1- score,Precision, Recall"
   ]
  },
  {
   "cell_type": "code",
   "execution_count": 154,
   "metadata": {},
   "outputs": [
    {
     "name": "stdout",
     "output_type": "stream",
     "text": [
      "             precision    recall  f1-score   support\n",
      "\n",
      "   positive       0.72      0.50      0.59      1951\n",
      "   negative       0.91      0.96      0.94     10049\n",
      "\n",
      "avg / total       0.88      0.89      0.88     12000\n",
      "\n"
     ]
    }
   ],
   "source": [
    "from sklearn import metrics\n",
    "print(metrics.classification_report(y_test, pred_bow, target_names = [\"positive\", \"negative\"]))"
   ]
  },
  {
   "cell_type": "markdown",
   "metadata": {},
   "source": [
    "### Obervation:\n",
    "Using Metrics from sklearn , as we notices above measurements which reprasents f1-Score which closer to 86% , recall is 87% ,Precision is 86% and Accuracy is closer to 87%.\n",
    "\n",
    "As we observed , For given training set using BagOfWord vectiorization in Naive Bayes, we got 87% accuracy on test set.\n",
    "\n",
    "Using **Bernoulli Naïve Bayes learning method on Naive Bayes**, we got optimal Alpha which indicates hypermeter would closer to **0.0001** .\n",
    "\n",
    "Let's focus on confusion matrix of this model, which predicts TP,TN,FP,FN on a diagonals on the Matrix. \n"
   ]
  },
  {
   "cell_type": "markdown",
   "metadata": {},
   "source": [
    "## Confusion Matrix"
   ]
  },
  {
   "cell_type": "code",
   "execution_count": 117,
   "metadata": {},
   "outputs": [
    {
     "name": "stdout",
     "output_type": "stream",
     "text": [
      "\n",
      "\n",
      "TPR =  [0.41 0.98]\n",
      "\n",
      "\n",
      "TNR =  [0.98 0.41]\n",
      "\n",
      "\n",
      "Precision =  [0.78 0.89]\n",
      "\n",
      "\n",
      "NPV(Negative Predictive Value) =  [0.89 0.78]\n",
      "\n",
      "\n",
      "FPR =  [0.02 0.59]\n",
      "\n",
      "\n",
      "FNR =  [0.59 0.02]\n",
      "\n",
      "\n",
      "FDR =  [0.22 0.11]\n",
      "\n",
      "\n",
      "Accuracy =  [0.89 0.89]\n"
     ]
    }
   ],
   "source": [
    "confusion_matrix=cm_BoW\n",
    "FP = confusion_matrix.sum(axis=0) - np.diag(confusion_matrix)  \n",
    "FN = confusion_matrix.sum(axis=1) - np.diag(confusion_matrix)\n",
    "TP = np.diag(confusion_matrix)\n",
    "TN = confusion_matrix.sum() - (FP + FN + TP)\n",
    "\n",
    "# Sensitivity, hit rate, recall, or true positive rate\n",
    "TPR = TP/(TP+FN)\n",
    "print('\\n')\n",
    "\n",
    "print('TPR = ',TPR)\n",
    "# Specificity or true negative rate\n",
    "TNR = TN/(TN+FP) \n",
    "print('\\n')\n",
    "\n",
    "print('TNR = ',TNR)\n",
    "# Precision or positive predictive value\n",
    "PPV = TP/(TP+FP)\n",
    "print('\\n')\n",
    "\n",
    "print('Precision = ',PPV)\n",
    "# Negative predictive value\n",
    "NPV = TN/(TN+FN)\n",
    "print('\\n')\n",
    "\n",
    "print('NPV(Negative Predictive Value) = ',NPV)\n",
    "\n",
    "# Fall out or false positive rate\n",
    "FPR = FP/(FP+TN)\n",
    "print('\\n')\n",
    "\n",
    "print('FPR = ',FPR)\n",
    "# False negative rate\n",
    "FNR = FN/(TP+FN)\n",
    "print('\\n')\n",
    "print('FNR = ',FNR)\n",
    "# False discovery rate\n",
    "print('\\n')\n",
    "FDR = FP/(TP+FP)\n",
    "\n",
    "print('FDR = ',FDR)\n",
    "print('\\n')\n",
    "# Overall accuracy\n",
    "ACC = (TP+TN)/(TP+FP+FN+TN)\n",
    "\n",
    "print('Accuracy = ',ACC)"
   ]
  },
  {
   "cell_type": "code",
   "execution_count": 116,
   "metadata": {},
   "outputs": [
    {
     "data": {
      "image/png": "[encoded data removed]",
      "text/plain": [
       "<matplotlib.figure.Figure at 0x26264cf8>"
      ]
     },
     "metadata": {},
     "output_type": "display_data"
    },
    {
     "data": {
      "image/png": "[encoded data removed]",
      "text/plain": [
       "<matplotlib.figure.Figure at 0x285fd5c0>"
      ]
     },
     "metadata": {},
     "output_type": "display_data"
    }
   ],
   "source": [
    "from sklearn.metrics import confusion_matrix\n",
    "def plot_confusion_matrix(cm_BoW, title='Confusion matrix', cmap=plt.cm.Blues):\n",
    "    plt.imshow(cm, interpolation='nearest', cmap=cmap)\n",
    "    plt.title(title)\n",
    "    plt.colorbar()\n",
    "    tick_marks = np.arange(len(set(Score)))\n",
    "    plt.xticks(tick_marks, set(Score), rotation=45)\n",
    "    plt.yticks(tick_marks, set(Score))\n",
    "    plt.tight_layout()\n",
    "    plt.ylabel('True label')\n",
    "    plt.xlabel('Predicted label')\n",
    "    \n",
    "# Compute confusion matrix\n",
    "cm_BoW = confusion_matrix(y_test, pred)\n",
    "np.set_printoptions(precision=2)\n",
    "plt.figure()\n",
    "plot_confusion_matrix(cm)    \n",
    "\n",
    "cm_normalized = cm.astype('float') / cm.sum(axis=1)[:, np.newaxis]\n",
    "plt.figure()\n",
    "plot_confusion_matrix(cm_normalized, title='Normalized confusion matrix')\n",
    "\n",
    "plt.show()"
   ]
  },
  {
   "cell_type": "code",
   "execution_count": null,
   "metadata": {},
   "outputs": [],
   "source": []
  },
  {
   "cell_type": "markdown",
   "metadata": {},
   "source": [
    "## Naive Bayes Classification using TF-IDF vector"
   ]
  },
  {
   "cell_type": "code",
   "execution_count": 26,
   "metadata": {},
   "outputs": [],
   "source": [
    "# tif-idf\n",
    "\n",
    "from sklearn.feature_extraction.text import TfidfVectorizer\n",
    "tf_idf_vect = TfidfVectorizer(ngram_range=(1,2))\n",
    "\n",
    "final_tf_idf = tf_idf_vect.fit_transform(Text)\n",
    "\n"
   ]
  },
  {
   "cell_type": "code",
   "execution_count": 28,
   "metadata": {},
   "outputs": [],
   "source": [
    "## Splitting the data into Train and Test\n",
    "\n",
    "from sklearn.cross_validation import train_test_split\n",
    "from sklearn import cross_validation\n",
    "#X_1, X_test, y_train, y_test = train_test_split(Text, Score, test_size=0.3, random_state=0)\n",
    "\n",
    "X_11, X_test, y_11, y_test = cross_validation.train_test_split(final_tf_idf,Score, test_size=0.3, random_state=0)\n",
    "\n",
    "## Split only train data into Train and test for Cross validation .\n",
    "\n",
    "# split the train data set into cross validation train and cross validation test\n",
    "X_tr, X_cv, y_tr, y_cv = cross_validation.train_test_split(X_11, y_11, test_size=0.3)\n",
    "\n"
   ]
  },
  {
   "cell_type": "markdown",
   "metadata": {},
   "source": [
    "## Applying Bernoulli Naïve Bayes learning method on TF-IDF"
   ]
  },
  {
   "cell_type": "code",
   "execution_count": 136,
   "metadata": {},
   "outputs": [
    {
     "name": "stdout",
     "output_type": "stream",
     "text": [
      "\n",
      "CV accuracy for Alpha = 0.0001 is 88%\n",
      "\n",
      "CV accuracy for Alpha = 0.0002 is 89%\n",
      "\n",
      "CV accuracy for Alpha = 0.0003 is 89%\n",
      "\n",
      "CV accuracy for Alpha = 0.0004 is 89%\n",
      "\n",
      "CV accuracy for Alpha = 0.0005 is 89%\n",
      "\n",
      "CV accuracy for Alpha = 0.0006 is 89%\n",
      "\n",
      "CV accuracy for Alpha = 0.0007 is 89%\n",
      "\n",
      "CV accuracy for Alpha = 0.0008 is 89%\n",
      "\n",
      "CV accuracy for Alpha = 0.0009 is 89%\n",
      "\n",
      "CV accuracy for Alpha = 0.0010 is 89%\n",
      "\n",
      "****Test accuracy for Alpha = .0001 is 88%\n"
     ]
    }
   ],
   "source": [
    "from sklearn.naive_bayes import BernoulliNB\n",
    "from sklearn.metrics import accuracy_score\n",
    "\n",
    "np.set_printoptions(precision=5)\n",
    "\n",
    "myList=np.linspace(.0001,.001,10)\n",
    "\n",
    "for i in myList :\n",
    "    \n",
    "    \n",
    "    NB = BernoulliNB(i)\n",
    "\n",
    "    # fitting the model on crossvalidation train\n",
    "    NB.fit(X_tr, y_tr)\n",
    "\n",
    "    # predict the response on the crossvalidation train\n",
    "    pred_tfidf = NB.predict(X_cv)\n",
    "\n",
    "    # evaluate CV accuracy\n",
    "    acc = accuracy_score(y_cv, pred_tfidf, normalize=True) * float(100)\n",
    "    print('\\nCV accuracy for Alpha = %.4f is %d%%' % (i, acc))\n",
    "    \n",
    "NB = BernoulliNB(.0001)\n",
    "NB.fit(X_tr,y_tr)\n",
    "pred_tfidf = NB.predict(X_test)\n",
    "acc = accuracy_score(y_test, pred_tfidf, normalize=True) * float(100)\n",
    "print('\\n****Test accuracy for Alpha = .0001 is %d%%' % (acc))"
   ]
  },
  {
   "cell_type": "code",
   "execution_count": 143,
   "metadata": {},
   "outputs": [
    {
     "name": "stdout",
     "output_type": "stream",
     "text": [
      "\n",
      "The optimal number of neighbors is 0.0006.\n"
     ]
    },
    {
     "data": {
      "image/png": "[encoded data removed]",
      "text/plain": [
       "<matplotlib.figure.Figure at 0x2acabb38>"
      ]
     },
     "metadata": {},
     "output_type": "display_data"
    },
    {
     "name": "stdout",
     "output_type": "stream",
     "text": [
      "the misclassification error for each Alpha value is :  [0.104 0.103 0.103 0.103 0.103 0.103 0.103 0.104 0.104 0.104]\n"
     ]
    }
   ],
   "source": [
    "import numpy as np\n",
    "import pandas as pd\n",
    "import matplotlib.pyplot as plt\n",
    "from sklearn.cross_validation import train_test_split\n",
    "from sklearn.naive_bayes import BernoulliNB\n",
    "from sklearn.metrics import accuracy_score\n",
    "from sklearn.cross_validation import cross_val_score\n",
    "from collections import Counter\n",
    "from sklearn.metrics import accuracy_score\n",
    "from sklearn import cross_validation\n",
    "\n",
    "np.set_printoptions(precision=5)\n",
    "\n",
    "myList=np.linspace(.0001,.001,10)\n",
    "\n",
    "\n",
    "# empty list that will hold cv scores\n",
    "cv_scores = []\n",
    "\n",
    "# perform 10-fold cross validation\n",
    "for i in myList:\n",
    "    NB = BernoulliNB(alpha=i)\n",
    "    scores = cross_val_score(NB, X_tr, y_tr, cv=10, scoring='accuracy')\n",
    "    cv_scores.append(scores.mean())\n",
    "\n",
    "# changing to misclassification error\n",
    "MSE = [1 - x for x in cv_scores]\n",
    "\n",
    "# determining best alpha\n",
    "optimal_alpha = myList[MSE.index(min(MSE))]\n",
    "print('\\nThe optimal number of neighbors is %.4f.' % optimal_alpha)\n",
    "\n",
    "# plot misclassification error vs k \n",
    "plt.plot(myList, MSE)\n",
    "\n",
    "for xy in zip(myList, np.round(MSE,3)):\n",
    "    plt.annotate('(%s, %s)' % xy, xy=xy, textcoords='data')\n",
    "\n",
    "plt.xlabel('Number of Alpha')\n",
    "plt.ylabel('Misclassification Error')\n",
    "plt.title(\"10 - Cross Validation on NB \")\n",
    "plt.show()\n",
    "\n",
    "print(\"the misclassification error for each Alpha value is : \", np.round(MSE,3))"
   ]
  },
  {
   "cell_type": "code",
   "execution_count": 145,
   "metadata": {},
   "outputs": [
    {
     "name": "stdout",
     "output_type": "stream",
     "text": [
      "\n",
      "The accuracy of the NaiveBayes classifier for alpha = 0.0006 is 88.800000%\n"
     ]
    }
   ],
   "source": [
    "# ============================== NaiveBayes with Alpha = optimal_Alpha ===============================================\n",
    "# instantiate learning model Alpha = optimal_alpha\n",
    "alpha_optimal = BernoulliNB(alpha=optimal_alpha)\n",
    "\n",
    "# fitting the model\n",
    "alpha_optimal.fit(X_tr, y_tr)\n",
    "\n",
    "# predict the response\n",
    "pred_tfidf = alpha_optimal.predict(X_test)\n",
    "\n",
    "# evaluate accuracy\n",
    "acc = accuracy_score(y_test,pred_tfidf) * 100\n",
    "print('\\nThe accuracy of the NaiveBayes classifier for alpha = %.4f is %f%%' % (optimal_k, acc))"
   ]
  },
  {
   "cell_type": "markdown",
   "metadata": {},
   "source": [
    "## Observation:\n",
    "\n",
    "As we noticed , we have got optimal Alpha for Naive Bayes which indicates Hyper-paramter or Laplace Smooth at 0.0006 \n",
    "is closer to 89% of Accuracy (Classified) and 11% are Mis-classified.\n",
    "\n",
    "For given train data we have estimated 89% of accuracy on Test data using TF-IDF vectorizer on Naive Bayes (NB). \n"
   ]
  },
  {
   "cell_type": "markdown",
   "metadata": {},
   "source": [
    "## Finding Important Features for +Ve and -Ve from TF-IDF vector"
   ]
  },
  {
   "cell_type": "code",
   "execution_count": 32,
   "metadata": {},
   "outputs": [
    {
     "name": "stdout",
     "output_type": "stream",
     "text": [
      "Negative Words Scoring for Top 10 **************\n",
      "\n",
      "['aaaaaaarrrrrggghhh' 'also harder' 'also hard' 'also happili'\n",
      " 'also happi' 'also happen' 'also handi' 'also havent' 'also halo'\n",
      " 'also hairbal']\n",
      "\n",
      "\n",
      "Positive Words Scoring for Top 10 **************\n",
      "\n",
      "['aaaaaaarrrrrggghhh' 'alway deposit' 'alway diet' 'alway differ'\n",
      " 'alway dig' 'alway disappoint' 'advantag local' 'advantag littl'\n",
      " 'alway dish' 'advantag lick']\n"
     ]
    }
   ],
   "source": [
    "## Finding top features from TF-IDF\n",
    "import numpy as np\n",
    "neg_class_prob_sorted = NB_optimal.feature_log_prob_[0, :].argsort()\n",
    "pos_class_prob_sorted = NB_optimal.feature_log_prob_[1, :].argsort()\n",
    "\n",
    "print('Negative Words Scoring for Top 10 **************\\n')\n",
    "print(np.take(tf_idf_vect.get_feature_names(), neg_class_prob_sorted[:10])) # np.take(arr, indices, axis=3(optional)) it returns ndarray (Ni…, Nj…, Nk…)\n",
    "print('\\n')\n",
    "print('Positive Words Scoring for Top 10 **************\\n')\n",
    "print(np.take(tf_idf_vect.get_feature_names(), pos_class_prob_sorted[:10]))\n"
   ]
  },
  {
   "cell_type": "markdown",
   "metadata": {},
   "source": [
    "## F1- score,Precision, Recall"
   ]
  },
  {
   "cell_type": "code",
   "execution_count": 146,
   "metadata": {},
   "outputs": [
    {
     "name": "stdout",
     "output_type": "stream",
     "text": [
      "             precision    recall  f1-score   support\n",
      "\n",
      "   positive       0.72      0.50      0.59      1951\n",
      "   negative       0.91      0.96      0.94     10049\n",
      "\n",
      "avg / total       0.88      0.89      0.88     12000\n",
      "\n"
     ]
    }
   ],
   "source": [
    "from sklearn import metrics\n",
    "print(metrics.classification_report(y_test, pred_tfidf, target_names = [\"positive\", \"negative\"]))"
   ]
  },
  {
   "cell_type": "markdown",
   "metadata": {},
   "source": [
    "## Obervation:\n",
    "\n",
    "Using Metrics from sklearn , as we notices above measurements which reprasents f1-Score which closer to 88% , recall is 89% ,Precision is 88% and Accuracy is closer to 89%.\n",
    "\n",
    "As we observed , For given training set using TF-IDF vectiorization in Naive Bayes, we got 88% accuracy on test set.\n",
    "\n",
    "Using Bernoulli Naïve Bayes learning method on Naive Bayes, we got optimal Alpha which indicates hypermeter would closer to 0.0006 .\n",
    "\n",
    "Let's focus on confusion matrix of this model, which predicts TP,TN,FP,FN on the Matrix. \n"
   ]
  },
  {
   "cell_type": "markdown",
   "metadata": {},
   "source": [
    "## Confusion Matrix"
   ]
  },
  {
   "cell_type": "code",
   "execution_count": 108,
   "metadata": {},
   "outputs": [
    {
     "name": "stdout",
     "output_type": "stream",
     "text": [
      "\n",
      "\n",
      "TPR =  [0.41 0.98]\n",
      "\n",
      "\n",
      "TNR =  [0.98 0.41]\n",
      "\n",
      "\n",
      "Precision =  [0.78 0.89]\n",
      "\n",
      "\n",
      "NPV(Negative Predictive Value) =  [0.89 0.78]\n",
      "\n",
      "\n",
      "FPR =  [0.02 0.59]\n",
      "\n",
      "\n",
      "FNR =  [0.59 0.02]\n",
      "\n",
      "\n",
      "FDR =  [0.22 0.11]\n",
      "\n",
      "\n",
      "Accuracy =  [0.89 0.89]\n"
     ]
    }
   ],
   "source": [
    "confusion_matrix=cm\n",
    "FP = confusion_matrix.sum(axis=0) - np.diag(confusion_matrix)  \n",
    "FN = confusion_matrix.sum(axis=1) - np.diag(confusion_matrix)\n",
    "TP = np.diag(confusion_matrix)\n",
    "TN = confusion_matrix.sum() - (FP + FN + TP)\n",
    "\n",
    "# Sensitivity, hit rate, recall, or true positive rate\n",
    "TPR = TP/(TP+FN)\n",
    "print('\\n')\n",
    "\n",
    "print('TPR = ',TPR)\n",
    "# Specificity or true negative rate\n",
    "TNR = TN/(TN+FP) \n",
    "print('\\n')\n",
    "\n",
    "print('TNR = ',TNR)\n",
    "# Precision or positive predictive value\n",
    "PPV = TP/(TP+FP)\n",
    "print('\\n')\n",
    "\n",
    "print('Precision = ',PPV)\n",
    "# Negative predictive value\n",
    "NPV = TN/(TN+FN)\n",
    "print('\\n')\n",
    "\n",
    "print('NPV(Negative Predictive Value) = ',NPV)\n",
    "\n",
    "# Fall out or false positive rate\n",
    "FPR = FP/(FP+TN)\n",
    "print('\\n')\n",
    "\n",
    "print('FPR = ',FPR)\n",
    "# False negative rate\n",
    "FNR = FN/(TP+FN)\n",
    "print('\\n')\n",
    "print('FNR = ',FNR)\n",
    "# False discovery rate\n",
    "print('\\n')\n",
    "FDR = FP/(TP+FP)\n",
    "\n",
    "print('FDR = ',FDR)\n",
    "print('\\n')\n",
    "# Overall accuracy\n",
    "ACC = (TP+TN)/(TP+FP+FN+TN)\n",
    "\n",
    "print('Accuracy = ',ACC)"
   ]
  },
  {
   "cell_type": "code",
   "execution_count": 114,
   "metadata": {},
   "outputs": [
    {
     "data": {
      "image/png": "[encoded data removed]",
      "text/plain": [
       "<matplotlib.figure.Figure at 0x2a2a5d30>"
      ]
     },
     "metadata": {},
     "output_type": "display_data"
    },
    {
     "data": {
      "image/png": "[encoded data removed]",
      "text/plain": [
       "<matplotlib.figure.Figure at 0x29e73710>"
      ]
     },
     "metadata": {},
     "output_type": "display_data"
    }
   ],
   "source": [
    "from sklearn.metrics import confusion_matrix\n",
    "def plot_confusion_matrix(cm, title='Confusion matrix', cmap=plt.cm.Blues):\n",
    "    plt.imshow(cm, interpolation='nearest', cmap=cmap)\n",
    "    plt.title(title)\n",
    "    plt.colorbar()\n",
    "    tick_marks = np.arange(len(set(Score)))\n",
    "    plt.xticks(tick_marks, set(Score), rotation=45)\n",
    "    plt.yticks(tick_marks, set(Score))\n",
    "    \n",
    "    plt.tight_layout()\n",
    "    plt.ylabel('True label')\n",
    "    plt.xlabel('Predicted label')\n",
    "      \n",
    "# Compute confusion matrix\n",
    "cm = confusion_matrix(y_test, pred_tfidf)\n",
    "\n",
    "np.set_printoptions(precision=2)\n",
    "plt.figure()\n",
    "plot_confusion_matrix(cm)    \n",
    "\n",
    "cm_normalized = cm.astype('float') / cm.sum(axis=1)[:, np.newaxis]\n",
    "plt.figure()\n",
    "plot_confusion_matrix(cm_normalized, title='Normalized confusion matrix')\n",
    "\n",
    "plt.show()"
   ]
  },
  {
   "cell_type": "markdown",
   "metadata": {},
   "source": [
    "## Conclusion:\n",
    "   **We can assume that using BagOfWords and TF-IDF vectorizer has got Accuracy is closer to 89% for Hyper-paramter    (alpa)which indicates Lapace Smooth. **\n",
    "   \n",
    "  **If we look at F1-score which closer to Accuracy , it implies that for given train data we accomplished 89% accuracy     on Test data **\n",
    "  \n",
    "  **Naive Bayes , using Bernoulli Naïve Bayes we accomplished Laplace Smooth at 0.0006 which is \n",
    "    called Optimal Hyper-parameter.**"
   ]
  }
 ],
 "metadata": {
  "kernelspec": {
   "display_name": "Python 3",
   "language": "python",
   "name": "python3"
  },
  "language_info": {
   "codemirror_mode": {
    "name": "ipython",
    "version": 3
   },
   "file_extension": ".py",
   "mimetype": "text/x-python",
   "name": "python",
   "nbconvert_exporter": "python",
   "pygments_lexer": "ipython3",
   "version": "3.6.4"
  }
 },
 "nbformat": 4,
 "nbformat_minor": 2
}
